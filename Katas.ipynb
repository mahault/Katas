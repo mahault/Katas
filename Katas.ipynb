{
  "nbformat": 4,
  "nbformat_minor": 0,
  "metadata": {
    "colab": {
      "name": "Katas",
      "provenance": [],
      "authorship_tag": "ABX9TyMve8mFHn7clq3mUqp2uO5X",
      "include_colab_link": true
    },
    "kernelspec": {
      "name": "python3",
      "display_name": "Python 3"
    },
    "language_info": {
      "name": "python"
    }
  },
  "cells": [
    {
      "cell_type": "markdown",
      "metadata": {
        "id": "view-in-github",
        "colab_type": "text"
      },
      "source": [
        "<a href=\"https://colab.research.google.com/github/mahault/Katas/blob/main/Katas.ipynb\" target=\"_parent\"><img src=\"https://colab.research.google.com/assets/colab-badge.svg\" alt=\"Open In Colab\"/></a>"
      ]
    },
    {
      "cell_type": "code",
      "source": [
        "!echo \"# Katas\" >> README.md\n",
        "!git init\n",
        "!git add README.md\n",
        "!git commit -m \"first commit\"\n",
        "!git branch -M main\n",
        "!git remote add origin https://github.com/mahault/Katas.git\n",
        "!git push -u origin main"
      ],
      "metadata": {
        "id": "LVCusx4sTZGx",
        "outputId": "5b0260ff-f3a3-471d-8828-8e3f2100e616",
        "colab": {
          "base_uri": "https://localhost:8080/"
        }
      },
      "execution_count": null,
      "outputs": [
        {
          "output_type": "stream",
          "name": "stdout",
          "text": [
            "Initialized empty Git repository in /content/.git/\n",
            "\n",
            "*** Please tell me who you are.\n",
            "\n",
            "Run\n",
            "\n",
            "  git config --global user.email \"you@example.com\"\n",
            "  git config --global user.name \"Your Name\"\n",
            "\n",
            "to set your account's default identity.\n",
            "Omit --global to set the identity only in this repository.\n",
            "\n",
            "fatal: unable to auto-detect email address (got 'root@b33140ddded5.(none)')\n",
            "error: refname refs/heads/master not found\n",
            "fatal: Branch rename failed\n",
            "error: src refspec main does not match any.\n",
            "error: failed to push some refs to 'https://github.com/mahault/Katas.git'\n"
          ]
        }
      ]
    },
    {
      "cell_type": "markdown",
      "source": [
        "TO CAMEL CASE KATA\n",
        "\n"
      ],
      "metadata": {
        "id": "yjAtLlcoLAyY"
      }
    },
    {
      "cell_type": "code",
      "execution_count": null,
      "metadata": {
        "colab": {
          "base_uri": "https://localhost:8080/"
        },
        "id": "EJRTFyJ1GsDx",
        "outputId": "599c54bd-33c4-4ec6-e37a-72faaaa03c0d"
      },
      "outputs": [
        {
          "output_type": "stream",
          "name": "stdout",
          "text": [
            "TheStealthWarrior\n"
          ]
        }
      ],
      "source": [
        "def to_camel_case(text):\n",
        "    #your code here\n",
        "    x = text.split(\"-\")\n",
        "    if len(x) <= 1:\n",
        "        x = text.split(\"_\")\n",
        "    y = [i.capitalize() for i in x]\n",
        "    z=\"\".join(y)\n",
        "    print(z)\n",
        "    return z\n",
        "    \n",
        "    \n",
        "to_camel_case(\"the_stealth_warrior\")"
      ]
    },
    {
      "cell_type": "code",
      "source": [
        "def to_camel_case(text):\n",
        "    #your code h1ere\n",
        "    x = text.split(\"-\")\n",
        "    if len(x) <= 1:\n",
        "        x = text.split(\"_\")\n",
        "    y = [i.capitalize() for i in x if x.index(i) != 0]\n",
        "    z= x[0] + \"\".join(y)\n",
        "    \n",
        "    print(z)\n",
        "    return(z)\n",
        "    \n",
        "to_camel_case(\"the_stealth_warrior\")"
      ],
      "metadata": {
        "colab": {
          "base_uri": "https://localhost:8080/",
          "height": 53
        },
        "id": "gaedPwOlGsw2",
        "outputId": "21608c8d-deed-4bb2-b2f8-8875d1904ff0"
      },
      "execution_count": null,
      "outputs": [
        {
          "output_type": "stream",
          "name": "stdout",
          "text": [
            "theStealth-warrior\n"
          ]
        },
        {
          "output_type": "execute_result",
          "data": {
            "text/plain": [
              "'theStealth-warrior'"
            ],
            "application/vnd.google.colaboratory.intrinsic+json": {
              "type": "string"
            }
          },
          "metadata": {},
          "execution_count": 12
        }
      ]
    },
    {
      "cell_type": "code",
      "source": [
        "def to_camel_case(text):\n",
        "    #your code h1ere\n",
        "    x = text.split(\"-_\")\n",
        "    \n",
        "    y = [i.capitalize() for i in x if x.index(i) != 0]\n",
        "    z= x[0] + \"\".join(y)\n",
        "    \n",
        "    print(z)\n",
        "    return(z)\n",
        "    \n",
        "to_camel_case(\"the_stealth_warrior\")"
      ],
      "metadata": {
        "colab": {
          "base_uri": "https://localhost:8080/",
          "height": 53
        },
        "id": "XRBOmTYsHxAk",
        "outputId": "a6e3d582-f31f-4fc7-bf5b-bca04946d3b6"
      },
      "execution_count": null,
      "outputs": [
        {
          "output_type": "stream",
          "name": "stdout",
          "text": [
            "the_stealth_warrior\n"
          ]
        },
        {
          "output_type": "execute_result",
          "data": {
            "text/plain": [
              "'the_stealth_warrior'"
            ],
            "application/vnd.google.colaboratory.intrinsic+json": {
              "type": "string"
            }
          },
          "metadata": {},
          "execution_count": 13
        }
      ]
    },
    {
      "cell_type": "code",
      "source": [
        "import re\n",
        "def to_camel_case(text):\n",
        "    #your code h1ere\n",
        "    x = re.split(\"-_\", text)\n",
        "    y = [i.capitalize() for i in x if x.index(i) != 0]\n",
        "    z= x[0] + \"\".join(y)\n",
        "    \n",
        "    print(z)\n",
        "    return(z)\n",
        "    \n",
        "to_camel_case(\"the_stealth-warrior\")"
      ],
      "metadata": {
        "colab": {
          "base_uri": "https://localhost:8080/",
          "height": 53
        },
        "id": "EFaLPM1rI1zP",
        "outputId": "aa11b2da-c974-4c70-cc2d-0107c0cba0b7"
      },
      "execution_count": null,
      "outputs": [
        {
          "output_type": "stream",
          "name": "stdout",
          "text": [
            "the_stealth-warrior\n"
          ]
        },
        {
          "output_type": "execute_result",
          "data": {
            "text/plain": [
              "'the_stealth-warrior'"
            ],
            "application/vnd.google.colaboratory.intrinsic+json": {
              "type": "string"
            }
          },
          "metadata": {},
          "execution_count": 16
        }
      ]
    },
    {
      "cell_type": "code",
      "source": [
        "\n",
        "def to_camel_case(text):\n",
        "    #your code h1ere\n",
        "    x = text.replace(\"-\",\" \").replace(\"_\",\" \").split(\" \")\n",
        "    y = [i.capitalize() for i in x if x.index(i) != 0]\n",
        "    z= x[0] + \"\".join(y)\n",
        "    print(x)\n",
        "    print(y)\n",
        "    print(z)\n",
        "    return(z)\n",
        "    \n",
        "to_camel_case(\"the_stealth-warrior\")"
      ],
      "metadata": {
        "colab": {
          "base_uri": "https://localhost:8080/",
          "height": 88
        },
        "id": "H4b72gfjJYvo",
        "outputId": "2c3e8e00-0fb9-48cf-8ab5-5634887fb657"
      },
      "execution_count": null,
      "outputs": [
        {
          "output_type": "stream",
          "name": "stdout",
          "text": [
            "['the', 'stealth', 'warrior']\n",
            "['Stealth', 'Warrior']\n",
            "theStealthWarrior\n"
          ]
        },
        {
          "output_type": "execute_result",
          "data": {
            "text/plain": [
              "'theStealthWarrior'"
            ],
            "application/vnd.google.colaboratory.intrinsic+json": {
              "type": "string"
            }
          },
          "metadata": {},
          "execution_count": 21
        }
      ]
    },
    {
      "cell_type": "code",
      "source": [
        ""
      ],
      "metadata": {
        "id": "SlVKQYJPJ6p4"
      },
      "execution_count": null,
      "outputs": []
    },
    {
      "cell_type": "markdown",
      "source": [
        "DESCENDING ORDER  KATA"
      ],
      "metadata": {
        "id": "m3tuFTY2LFEg"
      }
    },
    {
      "cell_type": "code",
      "source": [
        "def descending_order(num):\n",
        "  x=list(num)\n",
        "  print(x)\n",
        "  x.sort(reverse=True)\n",
        "  \n",
        "  return x\n",
        "\n",
        "descending_order(\"75935\")"
      ],
      "metadata": {
        "colab": {
          "base_uri": "https://localhost:8080/"
        },
        "id": "fnOgpTRYLIMz",
        "outputId": "4600ad5e-9030-4e7c-b599-3daea0266e84"
      },
      "execution_count": null,
      "outputs": [
        {
          "output_type": "stream",
          "name": "stdout",
          "text": [
            "['7', '5', '9', '3', '5']\n"
          ]
        },
        {
          "output_type": "execute_result",
          "data": {
            "text/plain": [
              "['9', '7', '5', '5', '3']"
            ]
          },
          "metadata": {},
          "execution_count": 34
        }
      ]
    },
    {
      "cell_type": "code",
      "source": [
        "def descending_order(num):\n",
        "    x=list(num)\n",
        "    print(x)\n",
        "    x.sort(reverse=True)\n",
        "    y=int(\"\".join(x))\n",
        "    print(y)\n",
        "    return y\n",
        "\n",
        "descending_order(\"75935\")"
      ],
      "metadata": {
        "colab": {
          "base_uri": "https://localhost:8080/"
        },
        "id": "GARhqkIjL4xO",
        "outputId": "4ddc1471-bead-406a-b405-d64968675c20"
      },
      "execution_count": null,
      "outputs": [
        {
          "output_type": "stream",
          "name": "stdout",
          "text": [
            "['7', '5', '9', '3', '5']\n",
            "97553\n"
          ]
        },
        {
          "output_type": "execute_result",
          "data": {
            "text/plain": [
              "97553"
            ]
          },
          "metadata": {},
          "execution_count": 37
        }
      ]
    },
    {
      "cell_type": "code",
      "source": [
        "def descending_order(num):\n",
        "    x = str(num)\n",
        "    x=list(x)\n",
        "    print(x)\n",
        "    x.sort(reverse=True)\n",
        "    y=int(\"\".join(x))\n",
        "    print(y)\n",
        "    return y\n",
        "\n",
        "descending_order(746373)"
      ],
      "metadata": {
        "colab": {
          "base_uri": "https://localhost:8080/"
        },
        "id": "Thr9QaR9Ny0k",
        "outputId": "99492b4d-13bf-4358-bec0-bccbf35dc1d9"
      },
      "execution_count": null,
      "outputs": [
        {
          "output_type": "stream",
          "name": "stdout",
          "text": [
            "['7', '4', '6', '3', '7', '3']\n",
            "776433\n"
          ]
        },
        {
          "output_type": "execute_result",
          "data": {
            "text/plain": [
              "776433"
            ]
          },
          "metadata": {},
          "execution_count": 41
        }
      ]
    },
    {
      "cell_type": "code",
      "source": [
        ""
      ],
      "metadata": {
        "id": "5f6XNaPtOF2r"
      },
      "execution_count": null,
      "outputs": []
    },
    {
      "cell_type": "markdown",
      "source": [
        "Square Kata"
      ],
      "metadata": {
        "id": "o6P5i1biQVrJ"
      }
    },
    {
      "cell_type": "code",
      "source": [
        "import math\n",
        "\n",
        "def is_square(n):\n",
        "  # Taking the input from user\n",
        "  if n <0:\n",
        "    return False\n",
        "  else:\n",
        "    number = int(n)\n",
        "\n",
        "    root = math.sqrt(number)\n",
        "    if int(root + 0.5) ** 2 == number:\n",
        "        return True\n",
        "    else:\n",
        "        return False\n",
        "\n",
        "is_square(-1)"
      ],
      "metadata": {
        "colab": {
          "base_uri": "https://localhost:8080/"
        },
        "id": "JSF-DqTPQX2O",
        "outputId": "8b90fd3e-e045-426d-da48-4905ae22a716"
      },
      "execution_count": null,
      "outputs": [
        {
          "output_type": "execute_result",
          "data": {
            "text/plain": [
              "False"
            ]
          },
          "metadata": {},
          "execution_count": 46
        }
      ]
    },
    {
      "cell_type": "code",
      "source": [
        ""
      ],
      "metadata": {
        "id": "xpy73J7nRYlg"
      },
      "execution_count": null,
      "outputs": []
    },
    {
      "cell_type": "markdown",
      "source": [
        "Sum of two lowest positive integers"
      ],
      "metadata": {
        "id": "DBtJ2qRkShS5"
      }
    },
    {
      "cell_type": "code",
      "source": [
        "def sum_two_smallest_numbers(numbers):\n",
        "    #your code here\n",
        "    numbers = [int(i) for i in numbers]\n",
        "    numbers.sort()\n",
        "    print(numbers)\n",
        "    print(numbers[0]+numbers[1])\n",
        "    return numbers[0]+numbers[1]\n",
        "\n",
        "\n",
        "sum_two_smallest_numbers([1,4,6,3,2,7,8])"
      ],
      "metadata": {
        "id": "rWEsMBdLSh0z",
        "colab": {
          "base_uri": "https://localhost:8080/"
        },
        "outputId": "e0a125f6-0b6e-4cb1-87c5-1ffc57ca3726"
      },
      "execution_count": 51,
      "outputs": [
        {
          "output_type": "stream",
          "name": "stdout",
          "text": [
            "[1, 2, 3, 4, 6, 7, 8]\n",
            "3\n"
          ]
        },
        {
          "output_type": "execute_result",
          "data": {
            "text/plain": [
              "3"
            ]
          },
          "metadata": {},
          "execution_count": 51
        }
      ]
    },
    {
      "cell_type": "code",
      "source": [
        ""
      ],
      "metadata": {
        "id": "gPGuo0MrXONQ"
      },
      "execution_count": null,
      "outputs": []
    }
  ]
}